{
 "cells": [
  {
   "cell_type": "code",
   "execution_count": 11,
   "metadata": {},
   "outputs": [],
   "source": [
    "\n",
    "from os import listdir\n",
    "from os.path import isfile, join\n",
    "import os\n",
    "import random\n",
    "import numpy as np\n",
    "import torchvision\n",
    "from torchvision import datasets, models, transforms\n",
    "import matplotlib.pyplot as plt\n",
    "import torch\n",
    "from torchvision.utils import save_image\n",
    "import secrets\n",
    "import shutil\n",
    "import re"
   ]
  },
  {
   "cell_type": "code",
   "execution_count": 2,
   "metadata": {},
   "outputs": [],
   "source": [
    "def split_images_randomply(path):\n",
    "    print(\"Splitting\")\n",
    "    files = [join(path, f) for f in listdir(path) if isfile(join(path, f))]\n",
    "    random.shuffle(files)\n",
    "    train, validate, test = np.split(files, [int(len(files)*0.8), int(len(files)*0.9)])\n",
    "    return train, validate, test\n",
    "\n",
    "\n",
    "def augment_data_and_save(dataset_files, path):\n",
    "    print(\"Transforming\")\n",
    "    transformer = transforms.Compose([\n",
    "        transforms.ToPILImage(),\n",
    "        transforms.Resize(640),\n",
    "        transforms.CenterCrop(640),\n",
    "        transforms.ToTensor()\n",
    "    ])\n",
    "\n",
    "    random.shuffle(dataset_files)\n",
    "\n",
    "    for image_path in dataset_files:\n",
    "        target_img = torchvision.io.read_image(image_path)\n",
    "\n",
    "        save_image(transformer(target_img), path + os.path.basename(image_path))\n"
   ]
  },
  {
   "cell_type": "code",
   "execution_count": 3,
   "metadata": {},
   "outputs": [
    {
     "name": "stdout",
     "output_type": "stream",
     "text": [
      "Splitting\n",
      "Transforming\n",
      "Transforming\n",
      "Transforming\n"
     ]
    }
   ],
   "source": [
    "fs_train, fs_validate, fs_test = split_images_randomply(r\"./raw_dataset/images/\")\n",
    "augment_data_and_save(fs_train, r'./images/train/')\n",
    "augment_data_and_save(fs_validate, r'./images/vals/')\n",
    "augment_data_and_save(fs_test, r'./images/test/')\n",
    "\n"
   ]
  },
  {
   "cell_type": "code",
   "execution_count": 12,
   "metadata": {},
   "outputs": [],
   "source": [
    "def modify_files_in_directory(directory, new_value):\n",
    "    # Loop through each file in the directory\n",
    "    for filename in os.listdir(directory):\n",
    "        # Skip any files that do not have the expected format\n",
    "        if not filename.endswith(\".txt\"):\n",
    "            continue\n",
    "\n",
    "        # Read the contents of the file\n",
    "        with open(os.path.join(directory, filename), \"r\") as f:\n",
    "            lines = f.readlines()\n",
    "\n",
    "        # Modify each line to replace the first column with the new value and remove numeric values from the last column\n",
    "        modified_lines = []\n",
    "        for line in lines:\n",
    "            line_parts = line.split(\" \")\n",
    "            line_parts[0] = new_value\n",
    "            last_part = line_parts[-1].strip()\n",
    "            if re.match(r\"^\\d+(\\.\\d+)?$\", last_part):\n",
    "                line_parts[-1] = \"\\n\"\n",
    "            modified_line = \" \".join(line_parts)\n",
    "            modified_lines.append(modified_line)\n",
    "\n",
    "        # Write the modified contents back to the file\n",
    "        with open(os.path.join(directory, filename), \"w\") as f:\n",
    "            f.writelines(modified_lines)"
   ]
  },
  {
   "cell_type": "code",
   "execution_count": 13,
   "metadata": {},
   "outputs": [],
   "source": [
    "modify_files_in_directory(\"./labels/train/\", \"0\")\n",
    "modify_files_in_directory(\"./labels/test/\", \"0\")\n",
    "modify_files_in_directory(\"./labels/vals/\", \"0\")"
   ]
  }
 ],
 "metadata": {
  "kernelspec": {
   "display_name": "Python 3",
   "language": "python",
   "name": "python3"
  },
  "language_info": {
   "codemirror_mode": {
    "name": "ipython",
    "version": 3
   },
   "file_extension": ".py",
   "mimetype": "text/x-python",
   "name": "python",
   "nbconvert_exporter": "python",
   "pygments_lexer": "ipython3",
   "version": "3.10.6"
  },
  "orig_nbformat": 4,
  "vscode": {
   "interpreter": {
    "hash": "916dbcbb3f70747c44a77c7bcd40155683ae19c65e1c03b4aa3499c5328201f1"
   }
  }
 },
 "nbformat": 4,
 "nbformat_minor": 2
}
